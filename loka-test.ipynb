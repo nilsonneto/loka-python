{
 "cells": [
  {
   "cell_type": "code",
   "execution_count": null,
   "metadata": {},
   "outputs": [],
   "source": [
    "import os\n",
    "import boto3\n",
    "import awswrangler as wr\n",
    "from datetime import datetime\n",
    "from geopy.distance import geodesic\n",
    "from pyspark.sql.types import FloatType, StructType\n",
    "import pyspark.sql.functions as F\n",
    "from pyspark.sql import SparkSession"
   ]
  },
  {
   "cell_type": "code",
   "execution_count": null,
   "metadata": {},
   "outputs": [],
   "source": [
    "spark = SparkSession.builder.appName(\"Loka Application\").getOrCreate()"
   ]
  },
  {
   "cell_type": "code",
   "execution_count": 59,
   "metadata": {},
   "outputs": [
    {
     "name": "stderr",
     "output_type": "stream",
     "text": [
      "                                                                                \r"
     ]
    }
   ],
   "source": [
    "df = spark.read.option(\"mergeSchema\", \"true\").json(\"/tmp/loka-data/*\")"
   ]
  },
  {
   "cell_type": "code",
   "execution_count": 60,
   "metadata": {},
   "outputs": [
    {
     "name": "stdout",
     "output_type": "stream",
     "text": [
      "root\n",
      " |-- at: string (nullable = true)\n",
      " |-- data: struct (nullable = true)\n",
      " |    |-- finish: string (nullable = true)\n",
      " |    |-- id: string (nullable = true)\n",
      " |    |-- location: struct (nullable = true)\n",
      " |    |    |-- at: string (nullable = true)\n",
      " |    |    |-- lat: double (nullable = true)\n",
      " |    |    |-- lng: double (nullable = true)\n",
      " |    |-- start: string (nullable = true)\n",
      " |-- event: string (nullable = true)\n",
      " |-- on: string (nullable = true)\n",
      " |-- organization_id: string (nullable = true)\n",
      "\n"
     ]
    }
   ],
   "source": [
    "df.printSchema()"
   ]
  },
  {
   "cell_type": "code",
   "execution_count": 61,
   "metadata": {},
   "outputs": [],
   "source": [
    "@F.udf(returnType=FloatType())\n",
    "def geodesic_udf(a, b):\n",
    "    return geodesic(a, b).km"
   ]
  },
  {
   "cell_type": "code",
   "execution_count": 62,
   "metadata": {},
   "outputs": [],
   "source": [
    "timestamp_format = \"yyyy-MM-dd'T'HH:mm:ss.SSSX\"\n",
    "df = df.withColumn(\"at\", F.to_timestamp(\"at\", timestamp_format))"
   ]
  },
  {
   "cell_type": "code",
   "execution_count": 63,
   "metadata": {},
   "outputs": [],
   "source": [
    "df = df.withColumn(\n",
    "    \"date_start\",\n",
    "    F.to_timestamp(df.data.start, timestamp_format)\n",
    ").withColumn(\n",
    "    \"data\",\n",
    "    F.struct(\"data.*\", \"date_start\")\n",
    ").drop(\"date_start\")\n"
   ]
  },
  {
   "cell_type": "code",
   "execution_count": 64,
   "metadata": {},
   "outputs": [],
   "source": [
    "df = df.withColumn(\n",
    "    \"date_finish\",\n",
    "    F.to_timestamp(df.data.finish, timestamp_format)\n",
    ").withColumn(\n",
    "    \"data\",\n",
    "    F.struct(\"data.*\", \"date_finish\")\n",
    ").drop(\"date_finish\")"
   ]
  },
  {
   "cell_type": "code",
   "execution_count": 65,
   "metadata": {},
   "outputs": [],
   "source": [
    "df = df.withColumn(\n",
    "    \"date_location_at\",\n",
    "    F.to_timestamp(df.data.location.at, timestamp_format)\n",
    ").withColumn(\n",
    "    \"data\",\n",
    "    F.struct(\"data.*\", \"date_location_at\")\n",
    ").drop(\"date_location_at\")"
   ]
  },
  {
   "cell_type": "code",
   "execution_count": null,
   "metadata": {},
   "outputs": [],
   "source": [
    "df.where(df.data.date_location_at.isNotNull()).select(\"data.*\").show()"
   ]
  },
  {
   "cell_type": "code",
   "execution_count": 66,
   "metadata": {},
   "outputs": [
    {
     "name": "stdout",
     "output_type": "stream",
     "text": [
      "+--------------------+--------------------+------+-------+---------------+\n",
      "|                  at|                data| event|     on|organization_id|\n",
      "+--------------------+--------------------+------+-------+---------------+\n",
      "|2019-06-01 19:17:...|{null, bac5188f-6...|update|vehicle|         org-id|\n",
      "|2019-06-01 19:17:...|{null, 3a3eb23a-f...|update|vehicle|         org-id|\n",
      "|2019-06-01 19:17:...|{null, f06eb89c-a...|update|vehicle|         org-id|\n",
      "|2019-06-01 19:17:...|{null, f0b87796-b...|update|vehicle|         org-id|\n",
      "|2019-06-01 19:17:...|{null, e641b45f-f...|update|vehicle|         org-id|\n",
      "|2019-06-01 19:17:...|{null, 9152c5d8-7...|update|vehicle|         org-id|\n",
      "|2019-06-01 19:17:...|{null, 949798fc-5...|update|vehicle|         org-id|\n",
      "|2019-06-01 19:17:...|{null, 9d6a8840-d...|update|vehicle|         org-id|\n",
      "|2019-06-01 19:17:...|{null, 3b0640d6-5...|update|vehicle|         org-id|\n",
      "|2019-06-01 19:17:...|{null, 98c8b8cb-7...|update|vehicle|         org-id|\n",
      "|2019-06-01 19:17:...|{null, d6880741-a...|update|vehicle|         org-id|\n",
      "|2019-06-01 19:17:...|{null, d759fc35-b...|update|vehicle|         org-id|\n",
      "|2019-06-01 19:17:...|{null, 49c02de6-2...|update|vehicle|         org-id|\n",
      "|2019-06-01 19:17:...|{null, b4dac3b4-0...|update|vehicle|         org-id|\n",
      "|2019-06-01 19:17:...|{null, 46952066-0...|update|vehicle|         org-id|\n",
      "|2019-06-01 19:17:...|{null, ae413d00-f...|update|vehicle|         org-id|\n",
      "|2019-06-01 19:17:...|{null, a38edd77-0...|update|vehicle|         org-id|\n",
      "|2019-06-01 19:17:...|{null, 804ac7f0-c...|update|vehicle|         org-id|\n",
      "|2019-06-01 19:17:...|{null, 46f718d4-5...|update|vehicle|         org-id|\n",
      "|2019-06-01 19:17:...|{null, 8efb00c5-3...|update|vehicle|         org-id|\n",
      "+--------------------+--------------------+------+-------+---------------+\n",
      "only showing top 20 rows\n",
      "\n"
     ]
    }
   ],
   "source": [
    "df.show()"
   ]
  },
  {
   "cell_type": "code",
   "execution_count": null,
   "metadata": {},
   "outputs": [],
   "source": [
    "df2 = df.sort(df.data.at).groupBy(df.organization_id, df.on, df.data.id).count()\n",
    "df2.show()"
   ]
  }
 ],
 "metadata": {
  "kernelspec": {
   "display_name": "loka-3.10",
   "language": "python",
   "name": "python3"
  },
  "language_info": {
   "codemirror_mode": {
    "name": "ipython",
    "version": 3
   },
   "file_extension": ".py",
   "mimetype": "text/x-python",
   "name": "python",
   "nbconvert_exporter": "python",
   "pygments_lexer": "ipython3",
   "version": "3.10.9"
  },
  "orig_nbformat": 4,
  "vscode": {
   "interpreter": {
    "hash": "bd86db1beab7dc41546b92caa68f1741df8a1461e1e110bf2bf3703c47a8662a"
   }
  }
 },
 "nbformat": 4,
 "nbformat_minor": 2
}
